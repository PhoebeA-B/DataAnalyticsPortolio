{
 "cells": [
  {
   "cell_type": "code",
   "execution_count": 1,
   "id": "98b7f44e-77ab-47b5-ba33-e1f94d429dfd",
   "metadata": {},
   "outputs": [],
   "source": [
    "import pandas as pd\n",
    "from bs4 import BeautifulSoup \n",
    "import requests\n",
    "import smtplib\n",
    "import time\n",
    "import datetime\n",
    "import csv"
   ]
  },
  {
   "cell_type": "code",
   "execution_count": 2,
   "id": "60004f8e-261b-4d9c-ab88-9e7d879054c2",
   "metadata": {},
   "outputs": [
    {
     "name": "stdout",
     "output_type": "stream",
     "text": [
      "\n",
      "                    RAISEVERN Mens Hawaiian Shirts Short Sleeve Funny Ugly Casual Shirt, M-XXL\n",
      "                   \n",
      "20.39\n"
     ]
    }
   ],
   "source": [
    "url = 'https://www.amazon.co.uk/RAISEVERN-Pancake-Printed-Hawaiian-Unicorn/dp/B0BWTLHV4X/ref=sr_1_12_sspa?crid=1CGCFOJ2PAWZ6&dib=eyJ2IjoiMSJ9.VNA416fBrxusjzAW4LYmF2P-1bhWy_6ZkO8oiUahwlq9SvaJog-T0SBZLfwc2QOY5m1FXA6w-95uDepJe5_71tjbxbt7KweHK92AeKl-pA3fNoFCoNAIBStjMdGFS3Yw7zQjCPzy1zDUWFOULIvsnCnqgTCeV2iTOVKYZtmV7gBVfgBLek3DuTvqdcm6ljXgw6steJQon959XpGHxSurEk8jm0eq8-v8SMcYft8czqEqZkYGMV0iLgR1Grn9ed2krCN3LMlg0-DC42hYPD7X8liXM7dapcYDqcN-WPSSETQ.7IQH4CfrFId7batSuaWGJBMLXDiXJEsaxseIGgVMF8Q&dib_tag=se&keywords=funny%2Bt%2Bshirts&qid=1744813776&sprefix=funny%2Bt%2Caps%2C90&sr=8-12-spons&sp_csd=d2lkZ2V0TmFtZT1zcF9tdGY&th=1&psc=1'\n",
    "headers = {\"User-Agent\": \"Mozilla/5.0 (Windows NT 10.0; Win64; x64) AppleWebKit/537.36 (KHTML, like Gecko) Chrome/135.0.0.0 Safari/537.36\"}\n",
    "page = requests.get(url, headers=headers)\n",
    "\n",
    "soup1 = BeautifulSoup(page.content, \"html.parser\")\n",
    "\n",
    "soup2 = BeautifulSoup(soup1.prettify(), \"html.parser\")\n",
    "\n",
    "title = soup2.find(id = 'productTitle').get_text()\n",
    "\n",
    "\n",
    "price_whole = soup2.find(class_='a-price-whole').get_text(strip=True)\n",
    "price_fraction = soup2.find(class_='a-price-fraction').get_text(strip=True)\n",
    "price = f'{price_whole}{price_fraction}'\n",
    "\n",
    "\n",
    "print(title)\n",
    "print(price)\n"
   ]
  },
  {
   "cell_type": "code",
   "execution_count": 3,
   "id": "356bbe4a-ac6d-431e-b5f6-22b5c45f5bf7",
   "metadata": {},
   "outputs": [
    {
     "name": "stdout",
     "output_type": "stream",
     "text": [
      "RAISEVERN Mens Hawaiian Shirts Short Sleeve Funny Ugly Casual Shirt, M-XXL\n",
      "20.39\n"
     ]
    }
   ],
   "source": [
    "price = price.strip()\n",
    "title = title.strip()\n",
    "\n",
    "print(title)\n",
    "print(price)"
   ]
  },
  {
   "cell_type": "code",
   "execution_count": 4,
   "id": "3762b9f3-10d1-41ec-8df0-310380533c02",
   "metadata": {},
   "outputs": [
    {
     "name": "stdout",
     "output_type": "stream",
     "text": [
      "2025-04-18\n"
     ]
    }
   ],
   "source": [
    "today = datetime.date.today()\n",
    "print(today)\n",
    "\n",
    "header = ['Title', 'Price', 'Date']\n",
    "data = [title, price, today]\n",
    "\n",
    "with open('AmazonWebScraperDataset.csv', 'w', newline = '', encoding = 'UTF8') as f:\n",
    "    writer = csv.writer(f)\n",
    "    writer.writerow(header)\n",
    "    writer.writerow(data)"
   ]
  },
  {
   "cell_type": "code",
   "execution_count": 5,
   "id": "254da789-010a-4454-a603-9618ed5d1d55",
   "metadata": {},
   "outputs": [
    {
     "data": {
      "text/html": [
       "<div>\n",
       "<style scoped>\n",
       "    .dataframe tbody tr th:only-of-type {\n",
       "        vertical-align: middle;\n",
       "    }\n",
       "\n",
       "    .dataframe tbody tr th {\n",
       "        vertical-align: top;\n",
       "    }\n",
       "\n",
       "    .dataframe thead th {\n",
       "        text-align: right;\n",
       "    }\n",
       "</style>\n",
       "<table border=\"1\" class=\"dataframe\">\n",
       "  <thead>\n",
       "    <tr style=\"text-align: right;\">\n",
       "      <th></th>\n",
       "      <th>Title</th>\n",
       "      <th>Price</th>\n",
       "      <th>Date</th>\n",
       "    </tr>\n",
       "  </thead>\n",
       "  <tbody>\n",
       "    <tr>\n",
       "      <th>0</th>\n",
       "      <td>RAISEVERN Mens Hawaiian Shirts Short Sleeve Fu...</td>\n",
       "      <td>20.39</td>\n",
       "      <td>2025-04-18</td>\n",
       "    </tr>\n",
       "  </tbody>\n",
       "</table>\n",
       "</div>"
      ],
      "text/plain": [
       "                                               Title  Price        Date\n",
       "0  RAISEVERN Mens Hawaiian Shirts Short Sleeve Fu...  20.39  2025-04-18"
      ]
     },
     "execution_count": 5,
     "metadata": {},
     "output_type": "execute_result"
    }
   ],
   "source": [
    "df = pd.read_csv(r\"AmazonWebScraperDataset.csv\")\n",
    "df"
   ]
  },
  {
   "cell_type": "code",
   "execution_count": 6,
   "id": "8e9d5849-53b7-4886-8150-79b625618698",
   "metadata": {},
   "outputs": [],
   "source": [
    "#appeding data to the file"
   ]
  },
  {
   "cell_type": "code",
   "execution_count": 7,
   "id": "81119f26-6a09-4fa9-aad5-84c4beb31ee0",
   "metadata": {},
   "outputs": [],
   "source": [
    "def check_price():\n",
    "    url = 'https://www.amazon.co.uk/RAISEVERN-Pancake-Printed-Hawaiian-Unicorn/dp/B0BWTLHV4X/ref=sr_1_12_sspa?crid=1CGCFOJ2PAWZ6&dib=eyJ2IjoiMSJ9.VNA416fBrxusjzAW4LYmF2P-1bhWy_6ZkO8oiUahwlq9SvaJog-T0SBZLfwc2QOY5m1FXA6w-95uDepJe5_71tjbxbt7KweHK92AeKl-pA3fNoFCoNAIBStjMdGFS3Yw7zQjCPzy1zDUWFOULIvsnCnqgTCeV2iTOVKYZtmV7gBVfgBLek3DuTvqdcm6ljXgw6steJQon959XpGHxSurEk8jm0eq8-v8SMcYft8czqEqZkYGMV0iLgR1Grn9ed2krCN3LMlg0-DC42hYPD7X8liXM7dapcYDqcN-WPSSETQ.7IQH4CfrFId7batSuaWGJBMLXDiXJEsaxseIGgVMF8Q&dib_tag=se&keywords=funny%2Bt%2Bshirts&qid=1744813776&sprefix=funny%2Bt%2Caps%2C90&sr=8-12-spons&sp_csd=d2lkZ2V0TmFtZT1zcF9tdGY&th=1&psc=1'\n",
    "    headers = {\"User-Agent\": \"Mozilla/5.0 (Windows NT 10.0; Win64; x64) AppleWebKit/537.36 (KHTML, like Gecko) Chrome/135.0.0.0 Safari/537.36\"}\n",
    "    page = requests.get(url, headers=headers)\n",
    "\n",
    "    soup1 = BeautifulSoup(page.content, \"html.parser\")\n",
    "\n",
    "    soup2 = BeautifulSoup(soup1.prettify(), \"html.parser\")\n",
    "\n",
    "    title = soup2.find(id = 'productTitle').get_text()\n",
    "\n",
    "\n",
    "    price_whole = soup2.find(class_='a-price-whole').get_text(strip=True)\n",
    "    price_fraction = soup2.find(class_='a-price-fraction').get_text(strip=True)\n",
    "    price = f'{price_whole}{price_fraction}'\n",
    "    \n",
    "    price = price.strip()\n",
    "    title = title.strip()\n",
    "    today = datetime.date.today()\n",
    "    header = ['Title', 'Price', 'Date']\n",
    "    data = [title, price, today]\n",
    "    with open('AmazonWebScraperDataset.csv', 'a+', newline = '', encoding = 'UTF8') as f:\n",
    "        writer = csv.writer(f)\n",
    "        writer.writerow(data)"
   ]
  },
  {
   "cell_type": "code",
   "execution_count": 8,
   "id": "8a971659-cc45-40b6-8118-d731e012cf60",
   "metadata": {},
   "outputs": [],
   "source": [
    "#automate it if want to make it check every day (script would have to run continuously)\n",
    "def automated():\n",
    "    while(True):\n",
    "        check_price()\n",
    "        time.sleep(86400)"
   ]
  },
  {
   "cell_type": "code",
   "execution_count": 9,
   "id": "e3011589-f385-4fe5-815d-2b6126ac6942",
   "metadata": {},
   "outputs": [
    {
     "data": {
      "text/html": [
       "<div>\n",
       "<style scoped>\n",
       "    .dataframe tbody tr th:only-of-type {\n",
       "        vertical-align: middle;\n",
       "    }\n",
       "\n",
       "    .dataframe tbody tr th {\n",
       "        vertical-align: top;\n",
       "    }\n",
       "\n",
       "    .dataframe thead th {\n",
       "        text-align: right;\n",
       "    }\n",
       "</style>\n",
       "<table border=\"1\" class=\"dataframe\">\n",
       "  <thead>\n",
       "    <tr style=\"text-align: right;\">\n",
       "      <th></th>\n",
       "      <th>Title</th>\n",
       "      <th>Price</th>\n",
       "      <th>Date</th>\n",
       "    </tr>\n",
       "  </thead>\n",
       "  <tbody>\n",
       "    <tr>\n",
       "      <th>0</th>\n",
       "      <td>RAISEVERN Mens Hawaiian Shirts Short Sleeve Fu...</td>\n",
       "      <td>20.39</td>\n",
       "      <td>2025-04-18</td>\n",
       "    </tr>\n",
       "    <tr>\n",
       "      <th>1</th>\n",
       "      <td>RAISEVERN Mens Hawaiian Shirts Short Sleeve Fu...</td>\n",
       "      <td>20.39</td>\n",
       "      <td>2025-04-18</td>\n",
       "    </tr>\n",
       "  </tbody>\n",
       "</table>\n",
       "</div>"
      ],
      "text/plain": [
       "                                               Title  Price        Date\n",
       "0  RAISEVERN Mens Hawaiian Shirts Short Sleeve Fu...  20.39  2025-04-18\n",
       "1  RAISEVERN Mens Hawaiian Shirts Short Sleeve Fu...  20.39  2025-04-18"
      ]
     },
     "execution_count": 9,
     "metadata": {},
     "output_type": "execute_result"
    }
   ],
   "source": [
    "#testing\n",
    "#check_price()\n",
    "#df = pd.read_csv(r\"AmazonWebScraperDataset.csv\")\n",
    "#df"
   ]
  },
  {
   "cell_type": "code",
   "execution_count": null,
   "id": "d5e9c547-e78b-4301-90ee-76bd7ac69a9a",
   "metadata": {},
   "outputs": [],
   "source": []
  },
  {
   "cell_type": "code",
   "execution_count": null,
   "id": "55e69d6a-b7dc-4ec5-9fce-b37cca1b0f8e",
   "metadata": {},
   "outputs": [],
   "source": []
  },
  {
   "cell_type": "code",
   "execution_count": null,
   "id": "6c58bf90-edef-4725-a69d-0e01c1f4cca1",
   "metadata": {},
   "outputs": [],
   "source": []
  },
  {
   "cell_type": "code",
   "execution_count": null,
   "id": "d9d6213d-755f-4f34-877f-edf31c49cb3e",
   "metadata": {},
   "outputs": [],
   "source": []
  },
  {
   "cell_type": "code",
   "execution_count": null,
   "id": "d4dde065-183e-4509-8f11-46299501131e",
   "metadata": {},
   "outputs": [],
   "source": []
  },
  {
   "cell_type": "code",
   "execution_count": null,
   "id": "e28fbaba-0744-4399-ab48-ff8c3dd00376",
   "metadata": {},
   "outputs": [],
   "source": []
  },
  {
   "cell_type": "code",
   "execution_count": null,
   "id": "24595da0-26a5-41ce-83ef-de536c2837eb",
   "metadata": {},
   "outputs": [],
   "source": []
  },
  {
   "cell_type": "code",
   "execution_count": null,
   "id": "087ab934-79d4-496b-bd1d-1640cdc6838c",
   "metadata": {},
   "outputs": [],
   "source": []
  },
  {
   "cell_type": "code",
   "execution_count": null,
   "id": "2d9eb149-fcc0-4fce-86a5-4a9c247e6cfd",
   "metadata": {},
   "outputs": [],
   "source": []
  },
  {
   "cell_type": "code",
   "execution_count": null,
   "id": "52568742-99f9-4a9e-a34a-60d9c1e4734f",
   "metadata": {},
   "outputs": [],
   "source": []
  },
  {
   "cell_type": "code",
   "execution_count": null,
   "id": "2cb6bda6-a8b1-47b6-8eff-df57c80585c0",
   "metadata": {},
   "outputs": [],
   "source": []
  }
 ],
 "metadata": {
  "kernelspec": {
   "display_name": "Python [conda env:base] *",
   "language": "python",
   "name": "conda-base-py"
  },
  "language_info": {
   "codemirror_mode": {
    "name": "ipython",
    "version": 3
   },
   "file_extension": ".py",
   "mimetype": "text/x-python",
   "name": "python",
   "nbconvert_exporter": "python",
   "pygments_lexer": "ipython3",
   "version": "3.12.7"
  }
 },
 "nbformat": 4,
 "nbformat_minor": 5
}
